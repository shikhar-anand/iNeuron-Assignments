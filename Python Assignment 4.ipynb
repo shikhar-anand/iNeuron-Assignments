{
 "cells": [
  {
   "cell_type": "markdown",
   "id": "7cb03aee",
   "metadata": {},
   "source": [
    "<center> Python Assignment 4 </center>"
   ]
  },
  {
   "cell_type": "markdown",
   "id": "d91736d9",
   "metadata": {},
   "source": [
    "### Q 1.1 Write a Python Program(with class concepts) to find the area of the triangle using the below formula.\n",
    "\n",
    "### area = (s*(s-a)*(s-b)*(s-c)) ** 0.5\n",
    "\n",
    "### Function to take the length of the sides of triangle from user should be defined in the parent class and function to calculate the area should be defined in subclass."
   ]
  },
  {
   "cell_type": "code",
   "execution_count": 31,
   "id": "8f543bb2",
   "metadata": {},
   "outputs": [
    {
     "name": "stdout",
     "output_type": "stream",
     "text": [
      "Side a: 45\n",
      "Side b: 34\n",
      "Side c: 23\n",
      "Area of Triangle: 381.65\n"
     ]
    }
   ],
   "source": [
    "class AOT:\n",
    "    def __init__(self):\n",
    "        self.a = float(input(\"Side a: \"))\n",
    "        self.b = float(input(\"Side b: \"))\n",
    "        self.c = float(input(\"Side c: \"))\n",
    "        \n",
    "class calc_AOT(AOT):\n",
    "    def __init__(self):\n",
    "        AOT.__init__(self)\n",
    "        \n",
    "    def aot(self):\n",
    "        s = (self.a + self.b + self.c)*0.5\n",
    "        return float((s*(s-self.a)*(s-self.b)*(s-self.c)))** 0.5\n",
    "    \n",
    "area = calc_AOT()\n",
    "print(\"Area of Triangle: %0.2f\" %area.aot())\n",
    "    "
   ]
  },
  {
   "cell_type": "markdown",
   "id": "e22b5830",
   "metadata": {},
   "source": [
    "### Q1.2 Write a function filter_long_words() that takes a list of words and an integer n and returns the list of words that are longer than n."
   ]
  },
  {
   "cell_type": "code",
   "execution_count": 46,
   "id": "8d5b4dea",
   "metadata": {},
   "outputs": [],
   "source": [
    "def filter_long_words(wrd_lst, n):\n",
    "    wrd_lst = [i.strip() for i in wrd_lst if len(i.strip())>n]\n",
    "    \n",
    "    if len(wrd_lst) > 0:\n",
    "        return 'Words longer than %s are: %s' %(n, wrd_lst)\n",
    "    else: return 'No word in the list is longer than length %s' %n"
   ]
  },
  {
   "cell_type": "code",
   "execution_count": 61,
   "id": "3e143e5a",
   "metadata": {},
   "outputs": [
    {
     "name": "stdout",
     "output_type": "stream",
     "text": [
      "Please enter a list of words separated by comma: abc de, fgh, ijklm, no, pq, rstu, vw, xyz\n",
      "Please enter the string count: 3\n"
     ]
    },
    {
     "data": {
      "text/plain": [
       "\"Words longer than 3 are: ['abc de', 'ijklm', 'rstu']\""
      ]
     },
     "execution_count": 61,
     "metadata": {},
     "output_type": "execute_result"
    }
   ],
   "source": [
    "lst = [\"abc de\", \"fgh\", \"ijklm\", \"no\", \"pq\", \"rstu\", \"vw\", \"xyz\"]\n",
    "\n",
    "filter_long_words(list(input(\"Please enter a list of words separated by comma: \").split(',')),\n",
    "                  int(input('Please enter the string count: ')))"
   ]
  },
  {
   "cell_type": "markdown",
   "id": "1181fa26",
   "metadata": {},
   "source": [
    "### 2.1 Write a Python program using function concept that maps list of words into a list of integers representing the lengths of the corresponding words.\n",
    "\n",
    "### Hint: If a list [ ab,cde,erty] is passed on to the python function output should come as [2,3,4]\n",
    "\n",
    "### Here 2,3 and 4 are the lengths of the words in the list."
   ]
  },
  {
   "cell_type": "code",
   "execution_count": 62,
   "id": "e8e45279",
   "metadata": {},
   "outputs": [],
   "source": [
    "def map_wrd_to_int(wrd_lst):\n",
    "    return list(map(len, wrd_lst))"
   ]
  },
  {
   "cell_type": "code",
   "execution_count": 63,
   "id": "4ca701c5",
   "metadata": {},
   "outputs": [
    {
     "name": "stdout",
     "output_type": "stream",
     "text": [
      "Please enter a list of words separated by comma: abc de, fgh, ijklm, no, pq, rstu, vw, xyz\n"
     ]
    },
    {
     "data": {
      "text/plain": [
       "[6, 4, 6, 3, 3, 5, 3, 4]"
      ]
     },
     "execution_count": 63,
     "metadata": {},
     "output_type": "execute_result"
    }
   ],
   "source": [
    "map_wrd_to_int(list(input(\"Please enter a list of words separated by comma: \").split(',')))"
   ]
  },
  {
   "cell_type": "markdown",
   "id": "7df4cfe4",
   "metadata": {},
   "source": [
    "### 2.2 Write a Python function which takes a character (i.e. a string of length 1) and returns True if it is a vowel, False otherwise."
   ]
  },
  {
   "cell_type": "code",
   "execution_count": 187,
   "id": "90b8f364",
   "metadata": {},
   "outputs": [],
   "source": [
    "def vowel_check(char):\n",
    "    lst = ['a', 'e', 'i', 'o', 'u']\n",
    "    if char in lst:\n",
    "        return True\n",
    "    else:\n",
    "        return False"
   ]
  },
  {
   "cell_type": "code",
   "execution_count": 188,
   "id": "fc6f4683",
   "metadata": {},
   "outputs": [],
   "source": [
    "def input_char():\n",
    "    while True:\n",
    "        char = input('Enter single character of alphabet: ')\n",
    "        if len(char) == 1:\n",
    "            val = vowel_check(char)\n",
    "            print('Returned value is: ',val)\n",
    "            break\n",
    "        else: \n",
    "            print('Please enter single character.')\n",
    "            continue"
   ]
  },
  {
   "cell_type": "code",
   "execution_count": 190,
   "id": "6c266b00",
   "metadata": {},
   "outputs": [
    {
     "name": "stdout",
     "output_type": "stream",
     "text": [
      "Enter single character of alphabet: qw\n",
      "Please enter single character.\n",
      "Enter single character of alphabet: e\n",
      "Returned value is:  True\n"
     ]
    }
   ],
   "source": [
    "input_char()"
   ]
  },
  {
   "cell_type": "code",
   "execution_count": null,
   "id": "28f99407",
   "metadata": {},
   "outputs": [],
   "source": []
  },
  {
   "cell_type": "code",
   "execution_count": null,
   "id": "7e30db18",
   "metadata": {},
   "outputs": [],
   "source": []
  }
 ],
 "metadata": {
  "kernelspec": {
   "display_name": "Python 3",
   "language": "python",
   "name": "python3"
  },
  "language_info": {
   "codemirror_mode": {
    "name": "ipython",
    "version": 3
   },
   "file_extension": ".py",
   "mimetype": "text/x-python",
   "name": "python",
   "nbconvert_exporter": "python",
   "pygments_lexer": "ipython3",
   "version": "3.8.8"
  }
 },
 "nbformat": 4,
 "nbformat_minor": 5
}
