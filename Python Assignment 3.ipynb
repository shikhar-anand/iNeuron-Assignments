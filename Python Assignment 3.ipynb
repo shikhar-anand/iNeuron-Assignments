{
  "nbformat": 4,
  "nbformat_minor": 0,
  "metadata": {
    "colab": {
      "name": "Assignment 3.ipynb",
      "provenance": [],
      "collapsed_sections": []
    },
    "kernelspec": {
      "name": "python3",
      "display_name": "Python 3"
    },
    "language_info": {
      "name": "python"
    }
  },
  "cells": [
    {
      "cell_type": "markdown",
      "metadata": {
        "id": "o51Jtg8XHTiT"
      },
      "source": [
        "## <center>**Python Assignment 3**</center>"
      ]
    },
    {
      "cell_type": "markdown",
      "metadata": {
        "id": "oxP3qY3OQMoo"
      },
      "source": [
        "### Question 1.1 Write a Python Program to implement your own myreduce()function which works exactly like Python's built-in function reduce()"
      ]
    },
    {
      "cell_type": "code",
      "metadata": {
        "id": "lmSc6Yq4HWYd"
      },
      "source": [
        "l1 = [1,2,3,4]"
      ],
      "execution_count": 1,
      "outputs": []
    },
    {
      "cell_type": "code",
      "metadata": {
        "colab": {
          "base_uri": "https://localhost:8080/"
        },
        "id": "sxBOJ39VHpSh",
        "outputId": "978f5c29-7914-421d-a172-b0511d04dfe2"
      },
      "source": [
        "# Default Reduce Function\n",
        "from functools import reduce\n",
        "reduce((lambda a, b : a + b), l1)"
      ],
      "execution_count": 2,
      "outputs": [
        {
          "output_type": "execute_result",
          "data": {
            "text/plain": [
              "10"
            ]
          },
          "metadata": {
            "tags": []
          },
          "execution_count": 2
        }
      ]
    },
    {
      "cell_type": "code",
      "metadata": {
        "id": "ua3oKZvSHrFn"
      },
      "source": [
        "# My Reduce Function\n",
        "def myReduce(myfunctn, sequence):\n",
        "  result = 0\n",
        "  for item in sequence[0:]:\n",
        "    result = myfunctn(result, item)\n",
        "  return result"
      ],
      "execution_count": 3,
      "outputs": []
    },
    {
      "cell_type": "code",
      "metadata": {
        "id": "6B4hlisEyX7n"
      },
      "source": [
        "# Function to add two numbers\n",
        "def add(x,y): \n",
        "  return x + y"
      ],
      "execution_count": null,
      "outputs": []
    },
    {
      "cell_type": "code",
      "metadata": {
        "colab": {
          "base_uri": "https://localhost:8080/"
        },
        "id": "CP4NYT3kHve-",
        "outputId": "a3c5526b-659f-44a9-a3ec-297f9ebd7ea0"
      },
      "source": [
        "# Calling my reduce function\n",
        "myReduce(add, l1)"
      ],
      "execution_count": 4,
      "outputs": [
        {
          "output_type": "execute_result",
          "data": {
            "text/plain": [
              "10"
            ]
          },
          "metadata": {
            "tags": []
          },
          "execution_count": 4
        }
      ]
    },
    {
      "cell_type": "code",
      "metadata": {
        "id": "FVrtCVNKHv03"
      },
      "source": [
        ""
      ],
      "execution_count": 4,
      "outputs": []
    },
    {
      "cell_type": "markdown",
      "metadata": {
        "id": "kjpHja1JQDWR"
      },
      "source": [
        "### Question 1.2 Write a Python program to implement your own myfilter() function which works exactly like Python's built-in function filter()"
      ]
    },
    {
      "cell_type": "code",
      "metadata": {
        "id": "2KMQXR-NQW54"
      },
      "source": [
        "l2 = [4, 2, 1, 5, \"abc\"]"
      ],
      "execution_count": 5,
      "outputs": []
    },
    {
      "cell_type": "code",
      "metadata": {
        "colab": {
          "base_uri": "https://localhost:8080/"
        },
        "id": "9UUHkt1NQiAr",
        "outputId": "88e8ca00-8461-4545-b9c7-ddfe63f91612"
      },
      "source": [
        "# Default filter function\n",
        "list(filter(lambda a:a if type(a) == str else False, l2))"
      ],
      "execution_count": 6,
      "outputs": [
        {
          "output_type": "execute_result",
          "data": {
            "text/plain": [
              "['abc']"
            ]
          },
          "metadata": {
            "tags": []
          },
          "execution_count": 6
        }
      ]
    },
    {
      "cell_type": "code",
      "metadata": {
        "id": "KqqwysCXP1wh"
      },
      "source": [
        "# My Filter function\n",
        "def myFilter(myfunc, sequence):\n",
        "  result = []\n",
        "  for item in sequence:\n",
        "    if myfunc(item):\n",
        "      result.append(item)\n",
        "  return result"
      ],
      "execution_count": 7,
      "outputs": []
    },
    {
      "cell_type": "code",
      "metadata": {
        "id": "Be5T8WVMRLki"
      },
      "source": [
        "# Function that checks if the given input is a string or not, if it is a string, it will return True else False\n",
        "def isString(x):\n",
        "  if (type(x) == str):\n",
        "    return True\n",
        "  else:\n",
        "    return False"
      ],
      "execution_count": 8,
      "outputs": []
    },
    {
      "cell_type": "code",
      "metadata": {
        "colab": {
          "base_uri": "https://localhost:8080/"
        },
        "id": "hz354WKLRY0q",
        "outputId": "6d85426a-50da-4665-fa2f-950dbe60289b"
      },
      "source": [
        "# Calling myFilter function\n",
        "list(myFilter(isString, [0,1,-2,3,4,5, \"abc\"]))"
      ],
      "execution_count": 9,
      "outputs": [
        {
          "output_type": "execute_result",
          "data": {
            "text/plain": [
              "['abc']"
            ]
          },
          "metadata": {
            "tags": []
          },
          "execution_count": 9
        }
      ]
    },
    {
      "cell_type": "code",
      "metadata": {
        "id": "2-aX4hiyRlOb"
      },
      "source": [
        ""
      ],
      "execution_count": 9,
      "outputs": []
    },
    {
      "cell_type": "markdown",
      "metadata": {
        "id": "ppTF-BIETFX5"
      },
      "source": [
        "### Question 2. Implement List comprehensions to produce the following lists. Write List comprehensions to produce the following Lists"
      ]
    },
    {
      "cell_type": "markdown",
      "metadata": {
        "id": "e17qCNkkTV5J"
      },
      "source": [
        "1. ['x', 'xx', 'xxx', 'xxxx', 'y', 'yy', 'yyy', 'yyyy', 'z', 'zz', 'zzz', 'zzzz']"
      ]
    },
    {
      "cell_type": "code",
      "metadata": {
        "id": "rUfcH7rRTI5t"
      },
      "source": [
        "list1 = lambda input : [i*j for i in input for j in range(1,5)]"
      ],
      "execution_count": 10,
      "outputs": []
    },
    {
      "cell_type": "code",
      "metadata": {
        "colab": {
          "base_uri": "https://localhost:8080/"
        },
        "id": "wYbZ7adLTcgb",
        "outputId": "229ebd60-7ec8-4dcd-98d3-05a57383a267"
      },
      "source": [
        "list1('xyz')"
      ],
      "execution_count": 11,
      "outputs": [
        {
          "output_type": "execute_result",
          "data": {
            "text/plain": [
              "['x', 'xx', 'xxx', 'xxxx', 'y', 'yy', 'yyy', 'yyyy', 'z', 'zz', 'zzz', 'zzzz']"
            ]
          },
          "metadata": {
            "tags": []
          },
          "execution_count": 11
        }
      ]
    },
    {
      "cell_type": "code",
      "metadata": {
        "id": "9W0HL2FlTlhS"
      },
      "source": [
        ""
      ],
      "execution_count": 11,
      "outputs": []
    },
    {
      "cell_type": "markdown",
      "metadata": {
        "id": "RvhTRl7dTn94"
      },
      "source": [
        "2. ['x', 'y', 'z', 'xx', 'yy', 'zz', 'xxx', 'yyy', 'zzz', 'xxxx', 'yyyy', 'zzzz']"
      ]
    },
    {
      "cell_type": "code",
      "metadata": {
        "id": "KBU2Fuu0Tt_x"
      },
      "source": [
        "list2 = lambda input : [i*j for i in range(1,5) for j in input]"
      ],
      "execution_count": 12,
      "outputs": []
    },
    {
      "cell_type": "code",
      "metadata": {
        "colab": {
          "base_uri": "https://localhost:8080/"
        },
        "id": "LX7O1N8KTyh4",
        "outputId": "539827b8-d25a-4fd4-ab23-7520109d5390"
      },
      "source": [
        "list2('xyz')"
      ],
      "execution_count": 13,
      "outputs": [
        {
          "output_type": "execute_result",
          "data": {
            "text/plain": [
              "['x', 'y', 'z', 'xx', 'yy', 'zz', 'xxx', 'yyy', 'zzz', 'xxxx', 'yyyy', 'zzzz']"
            ]
          },
          "metadata": {
            "tags": []
          },
          "execution_count": 13
        }
      ]
    },
    {
      "cell_type": "code",
      "metadata": {
        "id": "R9tGSG8CTy_c"
      },
      "source": [
        ""
      ],
      "execution_count": 13,
      "outputs": []
    },
    {
      "cell_type": "markdown",
      "metadata": {
        "id": "tV7kHVUyT1WT"
      },
      "source": [
        "3. [[2], [3], [4], [3], [4], [5], [4], [5], [6]]"
      ]
    },
    {
      "cell_type": "code",
      "metadata": {
        "id": "rvcD--jTT45K"
      },
      "source": [
        "list3 = lambda start, total_numbers : [[i+j] for i in range(start-1,total_numbers+1) for j in range(start-1, total_numbers+1)]"
      ],
      "execution_count": 14,
      "outputs": []
    },
    {
      "cell_type": "code",
      "metadata": {
        "colab": {
          "base_uri": "https://localhost:8080/"
        },
        "id": "t0jTzvnrT7W8",
        "outputId": "a5d76c85-94ff-4a66-a5ac-0b740928cfb2"
      },
      "source": [
        "list3(start = 2, total_numbers = 3)"
      ],
      "execution_count": 15,
      "outputs": [
        {
          "output_type": "execute_result",
          "data": {
            "text/plain": [
              "[[2], [3], [4], [3], [4], [5], [4], [5], [6]]"
            ]
          },
          "metadata": {
            "tags": []
          },
          "execution_count": 15
        }
      ]
    },
    {
      "cell_type": "code",
      "metadata": {
        "id": "UE2bUPPZT9Ln"
      },
      "source": [
        ""
      ],
      "execution_count": 15,
      "outputs": []
    },
    {
      "cell_type": "markdown",
      "metadata": {
        "id": "0JHQqTCdT-SX"
      },
      "source": [
        "4. [[2, 3, 4, 5], [3, 4, 5, 6],\n",
        "[4, 5, 6, 7], [5, 6, 7, 8]]"
      ]
    },
    {
      "cell_type": "code",
      "metadata": {
        "id": "oydQ3QfcUCNW"
      },
      "source": [
        "list4 = lambda input_list : [[i+j for i in input_list] for j in input_list] "
      ],
      "execution_count": 16,
      "outputs": []
    },
    {
      "cell_type": "code",
      "metadata": {
        "colab": {
          "base_uri": "https://localhost:8080/"
        },
        "id": "P9hwbtIxUIwM",
        "outputId": "65fc220a-b3ac-46a0-c8f6-d0260aac641e"
      },
      "source": [
        "list4([1,2,3,4])"
      ],
      "execution_count": 17,
      "outputs": [
        {
          "output_type": "execute_result",
          "data": {
            "text/plain": [
              "[[2, 3, 4, 5], [3, 4, 5, 6], [4, 5, 6, 7], [5, 6, 7, 8]]"
            ]
          },
          "metadata": {
            "tags": []
          },
          "execution_count": 17
        }
      ]
    },
    {
      "cell_type": "code",
      "metadata": {
        "id": "k_fbNTImUJKh"
      },
      "source": [
        ""
      ],
      "execution_count": 17,
      "outputs": []
    },
    {
      "cell_type": "markdown",
      "metadata": {
        "id": "255b7BsIUPCb"
      },
      "source": [
        "5. [(1, 1), (2, 1), (3, 1), (1, 2), (2, 2), (3, 2), (1, 3), (2, 3), (3, 3)]"
      ]
    },
    {
      "cell_type": "code",
      "metadata": {
        "id": "GmnlWRjoUSC5"
      },
      "source": [
        "list5 = lambda input_list : [(j,i) for i in input_list for j in input_list]"
      ],
      "execution_count": 18,
      "outputs": []
    },
    {
      "cell_type": "code",
      "metadata": {
        "colab": {
          "base_uri": "https://localhost:8080/"
        },
        "id": "3B-Y-AB9Uo94",
        "outputId": "d83bd05d-4864-4509-92b9-1700c99bc6a6"
      },
      "source": [
        "list5([1,2,3])"
      ],
      "execution_count": 19,
      "outputs": [
        {
          "output_type": "execute_result",
          "data": {
            "text/plain": [
              "[(1, 1), (2, 1), (3, 1), (1, 2), (2, 2), (3, 2), (1, 3), (2, 3), (3, 3)]"
            ]
          },
          "metadata": {
            "tags": []
          },
          "execution_count": 19
        }
      ]
    },
    {
      "cell_type": "code",
      "metadata": {
        "id": "FBWs6E0FUqlg"
      },
      "source": [
        ""
      ],
      "execution_count": 19,
      "outputs": []
    }
  ]
}